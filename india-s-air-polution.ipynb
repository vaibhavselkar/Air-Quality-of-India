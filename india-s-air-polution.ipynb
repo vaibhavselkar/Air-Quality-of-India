{
 "cells": [
  {
   "cell_type": "code",
   "execution_count": 1,
   "id": "c56bd7f1",
   "metadata": {
    "_cell_guid": "b1076dfc-b9ad-4769-8c92-a6c4dae69d19",
    "_uuid": "8f2839f25d086af736a60e9eeb907d3b93b6e0e5",
    "execution": {
     "iopub.execute_input": "2023-07-17T12:13:48.689269Z",
     "iopub.status.busy": "2023-07-17T12:13:48.688769Z",
     "iopub.status.idle": "2023-07-17T12:13:48.705595Z",
     "shell.execute_reply": "2023-07-17T12:13:48.704830Z"
    },
    "papermill": {
     "duration": 0.02772,
     "end_time": "2023-07-17T12:13:48.707768",
     "exception": false,
     "start_time": "2023-07-17T12:13:48.680048",
     "status": "completed"
    },
    "tags": []
   },
   "outputs": [
    {
     "name": "stdout",
     "output_type": "stream",
     "text": [
      "/kaggle/input/india-air-quality-data/data.csv\n"
     ]
    }
   ],
   "source": [
    "# This Python 3 environment comes with many helpful analytics libraries installed\n",
    "# It is defined by the kaggle/python Docker image: https://github.com/kaggle/docker-python\n",
    "# For example, here's several helpful packages to load\n",
    "\n",
    "import numpy as np # linear algebra\n",
    "import pandas as pd # data processing, CSV file I/O (e.g. pd.read_csv)\n",
    "\n",
    "# Input data files are available in the read-only \"../input/\" directory\n",
    "# For example, running this (by clicking run or pressing Shift+Enter) will list all files under the input directory\n",
    "\n",
    "import os\n",
    "for dirname, _, filenames in os.walk('/kaggle/input'):\n",
    "    for filename in filenames:\n",
    "        print(os.path.join(dirname, filename))\n",
    "\n",
    "# You can write up to 20GB to the current directory (/kaggle/working/) that gets preserved as output when you create a version using \"Save & Run All\" \n",
    "# You can also write temporary files to /kaggle/temp/, but they won't be saved outside of the current session"
   ]
  },
  {
   "cell_type": "markdown",
   "id": "d01fd8d4",
   "metadata": {
    "papermill": {
     "duration": 0.004412,
     "end_time": "2023-07-17T12:13:48.716889",
     "exception": false,
     "start_time": "2023-07-17T12:13:48.712477",
     "status": "completed"
    },
    "tags": []
   },
   "source": [
    "# Importing Libraries"
   ]
  },
  {
   "cell_type": "code",
   "execution_count": 2,
   "id": "a7a3d71f",
   "metadata": {
    "execution": {
     "iopub.execute_input": "2023-07-17T12:13:48.727781Z",
     "iopub.status.busy": "2023-07-17T12:13:48.727043Z",
     "iopub.status.idle": "2023-07-17T12:13:48.731344Z",
     "shell.execute_reply": "2023-07-17T12:13:48.730614Z"
    },
    "papermill": {
     "duration": 0.011852,
     "end_time": "2023-07-17T12:13:48.733214",
     "exception": false,
     "start_time": "2023-07-17T12:13:48.721362",
     "status": "completed"
    },
    "tags": []
   },
   "outputs": [],
   "source": [
    "import numpy as np  # linear algebra\n",
    "import pandas as pd  # Data manipulation and analysis\n",
    "import matplotlib.pyplot as plt # data visualization"
   ]
  },
  {
   "cell_type": "markdown",
   "id": "92ea9047",
   "metadata": {
    "papermill": {
     "duration": 0.00417,
     "end_time": "2023-07-17T12:13:48.741894",
     "exception": false,
     "start_time": "2023-07-17T12:13:48.737724",
     "status": "completed"
    },
    "tags": []
   },
   "source": [
    "# Importing CSV from Kaggle Air Quality dataset of India "
   ]
  },
  {
   "cell_type": "code",
   "execution_count": 3,
   "id": "50142ba9",
   "metadata": {
    "execution": {
     "iopub.execute_input": "2023-07-17T12:13:48.752650Z",
     "iopub.status.busy": "2023-07-17T12:13:48.752247Z",
     "iopub.status.idle": "2023-07-17T12:13:50.454857Z",
     "shell.execute_reply": "2023-07-17T12:13:50.453697Z"
    },
    "papermill": {
     "duration": 1.71105,
     "end_time": "2023-07-17T12:13:50.457419",
     "exception": false,
     "start_time": "2023-07-17T12:13:48.746369",
     "status": "completed"
    },
    "tags": []
   },
   "outputs": [
    {
     "data": {
      "text/html": [
       "<div>\n",
       "<style scoped>\n",
       "    .dataframe tbody tr th:only-of-type {\n",
       "        vertical-align: middle;\n",
       "    }\n",
       "\n",
       "    .dataframe tbody tr th {\n",
       "        vertical-align: top;\n",
       "    }\n",
       "\n",
       "    .dataframe thead th {\n",
       "        text-align: right;\n",
       "    }\n",
       "</style>\n",
       "<table border=\"1\" class=\"dataframe\">\n",
       "  <thead>\n",
       "    <tr style=\"text-align: right;\">\n",
       "      <th></th>\n",
       "      <th>stn_code</th>\n",
       "      <th>sampling_date</th>\n",
       "      <th>state</th>\n",
       "      <th>location</th>\n",
       "      <th>agency</th>\n",
       "      <th>type</th>\n",
       "      <th>so2</th>\n",
       "      <th>no2</th>\n",
       "      <th>rspm</th>\n",
       "      <th>spm</th>\n",
       "      <th>location_monitoring_station</th>\n",
       "      <th>pm2_5</th>\n",
       "      <th>date</th>\n",
       "    </tr>\n",
       "  </thead>\n",
       "  <tbody>\n",
       "    <tr>\n",
       "      <th>0</th>\n",
       "      <td>150</td>\n",
       "      <td>February - M021990</td>\n",
       "      <td>Andhra Pradesh</td>\n",
       "      <td>Hyderabad</td>\n",
       "      <td>NaN</td>\n",
       "      <td>Residential, Rural and other Areas</td>\n",
       "      <td>4.8</td>\n",
       "      <td>17.4</td>\n",
       "      <td>NaN</td>\n",
       "      <td>NaN</td>\n",
       "      <td>NaN</td>\n",
       "      <td>NaN</td>\n",
       "      <td>1990-02-01</td>\n",
       "    </tr>\n",
       "    <tr>\n",
       "      <th>1</th>\n",
       "      <td>151</td>\n",
       "      <td>February - M021990</td>\n",
       "      <td>Andhra Pradesh</td>\n",
       "      <td>Hyderabad</td>\n",
       "      <td>NaN</td>\n",
       "      <td>Industrial Area</td>\n",
       "      <td>3.1</td>\n",
       "      <td>7.0</td>\n",
       "      <td>NaN</td>\n",
       "      <td>NaN</td>\n",
       "      <td>NaN</td>\n",
       "      <td>NaN</td>\n",
       "      <td>1990-02-01</td>\n",
       "    </tr>\n",
       "    <tr>\n",
       "      <th>2</th>\n",
       "      <td>152</td>\n",
       "      <td>February - M021990</td>\n",
       "      <td>Andhra Pradesh</td>\n",
       "      <td>Hyderabad</td>\n",
       "      <td>NaN</td>\n",
       "      <td>Residential, Rural and other Areas</td>\n",
       "      <td>6.2</td>\n",
       "      <td>28.5</td>\n",
       "      <td>NaN</td>\n",
       "      <td>NaN</td>\n",
       "      <td>NaN</td>\n",
       "      <td>NaN</td>\n",
       "      <td>1990-02-01</td>\n",
       "    </tr>\n",
       "    <tr>\n",
       "      <th>3</th>\n",
       "      <td>150</td>\n",
       "      <td>March - M031990</td>\n",
       "      <td>Andhra Pradesh</td>\n",
       "      <td>Hyderabad</td>\n",
       "      <td>NaN</td>\n",
       "      <td>Residential, Rural and other Areas</td>\n",
       "      <td>6.3</td>\n",
       "      <td>14.7</td>\n",
       "      <td>NaN</td>\n",
       "      <td>NaN</td>\n",
       "      <td>NaN</td>\n",
       "      <td>NaN</td>\n",
       "      <td>1990-03-01</td>\n",
       "    </tr>\n",
       "    <tr>\n",
       "      <th>4</th>\n",
       "      <td>151</td>\n",
       "      <td>March - M031990</td>\n",
       "      <td>Andhra Pradesh</td>\n",
       "      <td>Hyderabad</td>\n",
       "      <td>NaN</td>\n",
       "      <td>Industrial Area</td>\n",
       "      <td>4.7</td>\n",
       "      <td>7.5</td>\n",
       "      <td>NaN</td>\n",
       "      <td>NaN</td>\n",
       "      <td>NaN</td>\n",
       "      <td>NaN</td>\n",
       "      <td>1990-03-01</td>\n",
       "    </tr>\n",
       "  </tbody>\n",
       "</table>\n",
       "</div>"
      ],
      "text/plain": [
       "  stn_code       sampling_date           state   location agency  \\\n",
       "0      150  February - M021990  Andhra Pradesh  Hyderabad    NaN   \n",
       "1      151  February - M021990  Andhra Pradesh  Hyderabad    NaN   \n",
       "2      152  February - M021990  Andhra Pradesh  Hyderabad    NaN   \n",
       "3      150     March - M031990  Andhra Pradesh  Hyderabad    NaN   \n",
       "4      151     March - M031990  Andhra Pradesh  Hyderabad    NaN   \n",
       "\n",
       "                                 type  so2   no2  rspm  spm  \\\n",
       "0  Residential, Rural and other Areas  4.8  17.4   NaN  NaN   \n",
       "1                     Industrial Area  3.1   7.0   NaN  NaN   \n",
       "2  Residential, Rural and other Areas  6.2  28.5   NaN  NaN   \n",
       "3  Residential, Rural and other Areas  6.3  14.7   NaN  NaN   \n",
       "4                     Industrial Area  4.7   7.5   NaN  NaN   \n",
       "\n",
       "  location_monitoring_station  pm2_5        date  \n",
       "0                         NaN    NaN  1990-02-01  \n",
       "1                         NaN    NaN  1990-02-01  \n",
       "2                         NaN    NaN  1990-02-01  \n",
       "3                         NaN    NaN  1990-03-01  \n",
       "4                         NaN    NaN  1990-03-01  "
      ]
     },
     "execution_count": 3,
     "metadata": {},
     "output_type": "execute_result"
    }
   ],
   "source": [
    "df =  pd.read_csv(\"/kaggle/input/india-air-quality-data/data.csv\", encoding='ISO-8859-1', low_memory=False)\n",
    "df.head()"
   ]
  },
  {
   "cell_type": "code",
   "execution_count": 4,
   "id": "ad7c376f",
   "metadata": {
    "execution": {
     "iopub.execute_input": "2023-07-17T12:13:50.468421Z",
     "iopub.status.busy": "2023-07-17T12:13:50.468060Z",
     "iopub.status.idle": "2023-07-17T12:13:50.604981Z",
     "shell.execute_reply": "2023-07-17T12:13:50.602367Z"
    },
    "papermill": {
     "duration": 0.145345,
     "end_time": "2023-07-17T12:13:50.607603",
     "exception": false,
     "start_time": "2023-07-17T12:13:50.462258",
     "status": "completed"
    },
    "tags": []
   },
   "outputs": [
    {
     "name": "stdout",
     "output_type": "stream",
     "text": [
      "(435742, 13)\n",
      "                 so2            no2           rspm            spm        pm2_5\n",
      "count  401096.000000  419509.000000  395520.000000  198355.000000  9314.000000\n",
      "mean       10.829414      25.809623     108.832784     220.783480    40.791467\n",
      "std        11.177187      18.503086      74.872430     151.395457    30.832525\n",
      "min         0.000000       0.000000       0.000000       0.000000     3.000000\n",
      "25%         5.000000      14.000000      56.000000     111.000000    24.000000\n",
      "50%         8.000000      22.000000      90.000000     187.000000    32.000000\n",
      "75%        13.700000      32.200000     142.000000     296.000000    46.000000\n",
      "max       909.000000     876.000000    6307.033333    3380.000000   504.000000\n"
     ]
    }
   ],
   "source": [
    "print(df.shape)\n",
    "print(df.describe())"
   ]
  },
  {
   "cell_type": "code",
   "execution_count": 5,
   "id": "4ba34b3d",
   "metadata": {
    "execution": {
     "iopub.execute_input": "2023-07-17T12:13:50.619248Z",
     "iopub.status.busy": "2023-07-17T12:13:50.618896Z",
     "iopub.status.idle": "2023-07-17T12:13:51.178350Z",
     "shell.execute_reply": "2023-07-17T12:13:51.177275Z"
    },
    "papermill": {
     "duration": 0.567751,
     "end_time": "2023-07-17T12:13:51.180505",
     "exception": false,
     "start_time": "2023-07-17T12:13:50.612754",
     "status": "completed"
    },
    "tags": []
   },
   "outputs": [
    {
     "name": "stdout",
     "output_type": "stream",
     "text": [
      "<class 'pandas.core.frame.DataFrame'>\n",
      "RangeIndex: 435742 entries, 0 to 435741\n",
      "Data columns (total 13 columns):\n",
      " #   Column                       Non-Null Count   Dtype  \n",
      "---  ------                       --------------   -----  \n",
      " 0   stn_code                     291665 non-null  object \n",
      " 1   sampling_date                435739 non-null  object \n",
      " 2   state                        435742 non-null  object \n",
      " 3   location                     435739 non-null  object \n",
      " 4   agency                       286261 non-null  object \n",
      " 5   type                         430349 non-null  object \n",
      " 6   so2                          401096 non-null  float64\n",
      " 7   no2                          419509 non-null  float64\n",
      " 8   rspm                         395520 non-null  float64\n",
      " 9   spm                          198355 non-null  float64\n",
      " 10  location_monitoring_station  408251 non-null  object \n",
      " 11  pm2_5                        9314 non-null    float64\n",
      " 12  date                         435735 non-null  object \n",
      "dtypes: float64(5), object(8)\n",
      "memory usage: 43.2+ MB\n"
     ]
    }
   ],
   "source": [
    "df.info()"
   ]
  },
  {
   "cell_type": "markdown",
   "id": "bdc59c8e",
   "metadata": {
    "papermill": {
     "duration": 0.004674,
     "end_time": "2023-07-17T12:13:51.190097",
     "exception": false,
     "start_time": "2023-07-17T12:13:51.185423",
     "status": "completed"
    },
    "tags": []
   },
   "source": [
    "# Data Preprocessing"
   ]
  },
  {
   "cell_type": "code",
   "execution_count": 6,
   "id": "a58aa1a3",
   "metadata": {
    "execution": {
     "iopub.execute_input": "2023-07-17T12:13:51.201276Z",
     "iopub.status.busy": "2023-07-17T12:13:51.200915Z",
     "iopub.status.idle": "2023-07-17T12:13:51.729507Z",
     "shell.execute_reply": "2023-07-17T12:13:51.728589Z"
    },
    "papermill": {
     "duration": 0.536629,
     "end_time": "2023-07-17T12:13:51.731562",
     "exception": false,
     "start_time": "2023-07-17T12:13:51.194933",
     "status": "completed"
    },
    "tags": []
   },
   "outputs": [
    {
     "data": {
      "text/plain": [
       "stn_code                       144077\n",
       "sampling_date                       3\n",
       "state                               0\n",
       "location                            3\n",
       "agency                         149481\n",
       "type                             5393\n",
       "so2                             34646\n",
       "no2                             16233\n",
       "rspm                            40222\n",
       "spm                            237387\n",
       "location_monitoring_station     27491\n",
       "pm2_5                          426428\n",
       "date                                7\n",
       "dtype: int64"
      ]
     },
     "execution_count": 6,
     "metadata": {},
     "output_type": "execute_result"
    }
   ],
   "source": [
    "df.isnull().sum()"
   ]
  },
  {
   "cell_type": "code",
   "execution_count": 7,
   "id": "ff04ebcf",
   "metadata": {
    "execution": {
     "iopub.execute_input": "2023-07-17T12:13:51.742804Z",
     "iopub.status.busy": "2023-07-17T12:13:51.742456Z",
     "iopub.status.idle": "2023-07-17T12:13:51.773502Z",
     "shell.execute_reply": "2023-07-17T12:13:51.772592Z"
    },
    "papermill": {
     "duration": 0.039593,
     "end_time": "2023-07-17T12:13:51.776214",
     "exception": false,
     "start_time": "2023-07-17T12:13:51.736621",
     "status": "completed"
    },
    "tags": []
   },
   "outputs": [],
   "source": [
    "# Removing low cardinality and High cardinality columns\n",
    "df.drop(columns=[\"stn_code\", \"agency\", \"pm2_5\"], inplace=True)    "
   ]
  },
  {
   "cell_type": "code",
   "execution_count": 8,
   "id": "8060b630",
   "metadata": {
    "execution": {
     "iopub.execute_input": "2023-07-17T12:13:51.789610Z",
     "iopub.status.busy": "2023-07-17T12:13:51.789222Z",
     "iopub.status.idle": "2023-07-17T12:13:51.833687Z",
     "shell.execute_reply": "2023-07-17T12:13:51.832841Z"
    },
    "papermill": {
     "duration": 0.052913,
     "end_time": "2023-07-17T12:13:51.835942",
     "exception": false,
     "start_time": "2023-07-17T12:13:51.783029",
     "status": "completed"
    },
    "tags": []
   },
   "outputs": [],
   "source": [
    "# leaky data\n",
    "df.drop(columns=[\"sampling_date\"], inplace=True)"
   ]
  },
  {
   "cell_type": "markdown",
   "id": "d4012bcd",
   "metadata": {
    "papermill": {
     "duration": 0.004727,
     "end_time": "2023-07-17T12:13:51.845768",
     "exception": false,
     "start_time": "2023-07-17T12:13:51.841041",
     "status": "completed"
    },
    "tags": []
   },
   "source": [
    "## Deleting missing Value"
   ]
  },
  {
   "cell_type": "code",
   "execution_count": 9,
   "id": "ebd00e46",
   "metadata": {
    "execution": {
     "iopub.execute_input": "2023-07-17T12:13:51.857134Z",
     "iopub.status.busy": "2023-07-17T12:13:51.856784Z",
     "iopub.status.idle": "2023-07-17T12:13:52.314236Z",
     "shell.execute_reply": "2023-07-17T12:13:52.312889Z"
    },
    "papermill": {
     "duration": 0.465657,
     "end_time": "2023-07-17T12:13:52.316375",
     "exception": false,
     "start_time": "2023-07-17T12:13:51.850718",
     "status": "completed"
    },
    "tags": []
   },
   "outputs": [
    {
     "name": "stdout",
     "output_type": "stream",
     "text": [
      "<class 'pandas.core.frame.DataFrame'>\n",
      "Int64Index: 140823 entries, 1036 to 431457\n",
      "Data columns (total 9 columns):\n",
      " #   Column                       Non-Null Count   Dtype  \n",
      "---  ------                       --------------   -----  \n",
      " 0   state                        140823 non-null  object \n",
      " 1   location                     140823 non-null  object \n",
      " 2   type                         140823 non-null  object \n",
      " 3   so2                          140823 non-null  float64\n",
      " 4   no2                          140823 non-null  float64\n",
      " 5   rspm                         140823 non-null  float64\n",
      " 6   spm                          140823 non-null  float64\n",
      " 7   location_monitoring_station  140823 non-null  object \n",
      " 8   date                         140823 non-null  object \n",
      "dtypes: float64(4), object(5)\n",
      "memory usage: 10.7+ MB\n"
     ]
    },
    {
     "data": {
      "text/plain": [
       "(140823, 9)"
      ]
     },
     "execution_count": 9,
     "metadata": {},
     "output_type": "execute_result"
    }
   ],
   "source": [
    "df_clean = df.dropna()\n",
    "df_clean.info()\n",
    "df_clean.shape"
   ]
  },
  {
   "cell_type": "code",
   "execution_count": 10,
   "id": "33429a57",
   "metadata": {
    "execution": {
     "iopub.execute_input": "2023-07-17T12:13:52.328911Z",
     "iopub.status.busy": "2023-07-17T12:13:52.328168Z",
     "iopub.status.idle": "2023-07-17T12:13:52.332526Z",
     "shell.execute_reply": "2023-07-17T12:13:52.331841Z"
    },
    "papermill": {
     "duration": 0.012656,
     "end_time": "2023-07-17T12:13:52.334349",
     "exception": false,
     "start_time": "2023-07-17T12:13:52.321693",
     "status": "completed"
    },
    "tags": []
   },
   "outputs": [],
   "source": [
    "grouped_data = df.groupby('state')"
   ]
  },
  {
   "cell_type": "code",
   "execution_count": 11,
   "id": "0df96b07",
   "metadata": {
    "execution": {
     "iopub.execute_input": "2023-07-17T12:13:52.346970Z",
     "iopub.status.busy": "2023-07-17T12:13:52.346365Z",
     "iopub.status.idle": "2023-07-17T12:13:52.465372Z",
     "shell.execute_reply": "2023-07-17T12:13:52.464349Z"
    },
    "papermill": {
     "duration": 0.128644,
     "end_time": "2023-07-17T12:13:52.468238",
     "exception": false,
     "start_time": "2023-07-17T12:13:52.339594",
     "status": "completed"
    },
    "tags": []
   },
   "outputs": [
    {
     "name": "stdout",
     "output_type": "stream",
     "text": [
      "                                 so2     no2         rspm     spm\n",
      "state                                                            \n",
      "Andhra Pradesh               228.000  334.90   637.000000  1082.0\n",
      "Arunachal Pradesh             13.000   17.00   250.000000     NaN\n",
      "Assam                         56.000  147.90   790.000000  1300.0\n",
      "Bihar                        216.600  203.80   656.000000  1338.0\n",
      "Chandigarh                    55.500  103.00   678.000000  1752.0\n",
      "Chhattisgarh                  29.300   92.00   477.000000   650.0\n",
      "Dadra & Nagar Haveli          23.900   39.30   152.000000   390.0\n",
      "Daman & Diu                   34.300   51.00   144.000000   330.0\n",
      "Delhi                        127.400  224.00   892.000000  1885.0\n",
      "Goa                          108.600   81.00   495.000000   736.0\n",
      "Gujarat                      219.100  279.80   411.330000  1654.0\n",
      "Haryana                       48.300  188.00  1082.000000  2213.0\n",
      "Himachal Pradesh              81.000  696.00   852.000000  1816.0\n",
      "Jammu & Kashmir               35.000   30.00   351.000000   359.0\n",
      "Jharkhand                    221.000  530.00   926.000000   895.0\n",
      "Karnataka                    230.000  186.00   902.000000  1221.0\n",
      "Kerala                       126.900  217.50   712.000000  1347.0\n",
      "Lakshadweep                      NaN     NaN          NaN     NaN\n",
      "Madhya Pradesh               199.800  131.70   728.000000  1002.0\n",
      "Maharashtra                  597.000  640.00   946.000000  1733.0\n",
      "Manipur                        5.900   37.70   125.000000   621.0\n",
      "Meghalaya                    178.000   38.00   301.000000   204.0\n",
      "Mizoram                        8.000   54.87   297.000000   293.0\n",
      "Nagaland                       5.800   61.70   333.000000   470.0\n",
      "Odisha                        68.000  104.00   590.000000   861.0\n",
      "Puducherry                   138.400  167.50   267.000000   501.0\n",
      "Punjab                       143.000  201.00   819.000000   939.0\n",
      "Rajasthan                    168.000  876.00  1288.000000  3380.0\n",
      "Sikkim                        19.800   26.80    32.000000    75.0\n",
      "Tamil Nadu                   909.000  315.00  1183.500000  1682.0\n",
      "Telangana                     32.600  134.00   357.000000     NaN\n",
      "Tripura                          NaN     NaN          NaN     NaN\n",
      "Uttar Pradesh                183.000  592.00  6307.033333  1235.0\n",
      "Uttarakhand                   33.005  101.00   966.000000   662.0\n",
      "Uttaranchal                   60.800   35.80   358.000000   910.0\n",
      "West Bengal                  498.000  592.00   981.000000  2366.0\n",
      "andaman-and-nicobar-islands      NaN     NaN          NaN     NaN\n"
     ]
    }
   ],
   "source": [
    "highest_values = {}\n",
    "\n",
    "# Iterate through each group and find the maximum value for each column\n",
    "for state, group in grouped_data:\n",
    "    highest_values[state] = {\n",
    "        'so2': group['so2'].max(),\n",
    "        'no2': group['no2'].max(),\n",
    "        'rspm': group['rspm'].max(),\n",
    "        'spm': group['spm'].max()\n",
    "    }\n",
    "\n",
    "# Display the highest values for each column in each state\n",
    "df_highest_values = pd.DataFrame(highest_values)\n",
    "\n",
    "# Transpose the DataFrame to have states as rows and columns as the columns of the original DataFrame\n",
    "df_highest_values = df_highest_values.T\n",
    "df_highest_values.index.name = 'state'\n",
    "\n",
    "# Display the DataFrame\n",
    "print(df_highest_values)\n"
   ]
  },
  {
   "cell_type": "code",
   "execution_count": 12,
   "id": "c81b2d2c",
   "metadata": {
    "execution": {
     "iopub.execute_input": "2023-07-17T12:13:52.480835Z",
     "iopub.status.busy": "2023-07-17T12:13:52.479991Z",
     "iopub.status.idle": "2023-07-17T12:13:52.490740Z",
     "shell.execute_reply": "2023-07-17T12:13:52.489806Z"
    },
    "papermill": {
     "duration": 0.019235,
     "end_time": "2023-07-17T12:13:52.493084",
     "exception": false,
     "start_time": "2023-07-17T12:13:52.473849",
     "status": "completed"
    },
    "tags": []
   },
   "outputs": [
    {
     "name": "stdout",
     "output_type": "stream",
     "text": [
      "<class 'pandas.core.frame.DataFrame'>\n",
      "Index: 37 entries, Andhra Pradesh to andaman-and-nicobar-islands\n",
      "Data columns (total 4 columns):\n",
      " #   Column  Non-Null Count  Dtype  \n",
      "---  ------  --------------  -----  \n",
      " 0   so2     34 non-null     float64\n",
      " 1   no2     34 non-null     float64\n",
      " 2   rspm    34 non-null     float64\n",
      " 3   spm     32 non-null     float64\n",
      "dtypes: float64(4)\n",
      "memory usage: 1.4+ KB\n"
     ]
    }
   ],
   "source": [
    "df_highest_values.info()"
   ]
  },
  {
   "cell_type": "code",
   "execution_count": 13,
   "id": "204dba08",
   "metadata": {
    "execution": {
     "iopub.execute_input": "2023-07-17T12:13:52.505501Z",
     "iopub.status.busy": "2023-07-17T12:13:52.505160Z",
     "iopub.status.idle": "2023-07-17T12:13:52.589556Z",
     "shell.execute_reply": "2023-07-17T12:13:52.588453Z"
    },
    "papermill": {
     "duration": 0.093344,
     "end_time": "2023-07-17T12:13:52.591913",
     "exception": false,
     "start_time": "2023-07-17T12:13:52.498569",
     "status": "completed"
    },
    "tags": []
   },
   "outputs": [
    {
     "name": "stdout",
     "output_type": "stream",
     "text": [
      "            state  average_pollution\n",
      "8           Delhi         141.184127\n",
      "34    Uttaranchal         118.212218\n",
      "32  Uttar Pradesh         114.079715\n",
      "3           Bihar         105.793081\n",
      "33    Uttarakhand         104.749858\n"
     ]
    }
   ],
   "source": [
    "# Calculate average pollution level for each state\n",
    "df['average_pollution'] = df[['so2', 'no2', 'rspm', 'spm']].mean(axis=1)\n",
    "\n",
    "# Group data by state and calculate the mean of average pollution for each state\n",
    "state_pollution = df.groupby('state')['average_pollution'].mean().reset_index()\n",
    "\n",
    "# Sort states based on average pollution in descending order\n",
    "top_5_states = state_pollution.sort_values(by='average_pollution', ascending=False).head(5)\n",
    "\n",
    "print(top_5_states)"
   ]
  },
  {
   "cell_type": "markdown",
   "id": "f67d3994",
   "metadata": {
    "papermill": {
     "duration": 0.005226,
     "end_time": "2023-07-17T12:13:52.602603",
     "exception": false,
     "start_time": "2023-07-17T12:13:52.597377",
     "status": "completed"
    },
    "tags": []
   },
   "source": [
    "### Based on the provided data, it appears that Delhi has the highest average pollution level among all the states, with an average pollution level of approximately 141.18. Uttaranchal, Uttar Pradesh, Bihar, and Uttarakhand follow with the next highest average pollution levels. These findings suggest that Delhi is experiencing a higher level of pollution compared to the other states in the dataset."
   ]
  },
  {
   "cell_type": "code",
   "execution_count": null,
   "id": "5c989792",
   "metadata": {
    "papermill": {
     "duration": 0.005107,
     "end_time": "2023-07-17T12:13:52.613143",
     "exception": false,
     "start_time": "2023-07-17T12:13:52.608036",
     "status": "completed"
    },
    "tags": []
   },
   "outputs": [],
   "source": []
  }
 ],
 "metadata": {
  "kernelspec": {
   "display_name": "Python 3",
   "language": "python",
   "name": "python3"
  },
  "language_info": {
   "codemirror_mode": {
    "name": "ipython",
    "version": 3
   },
   "file_extension": ".py",
   "mimetype": "text/x-python",
   "name": "python",
   "nbconvert_exporter": "python",
   "pygments_lexer": "ipython3",
   "version": "3.10.12"
  },
  "papermill": {
   "default_parameters": {},
   "duration": 13.576633,
   "end_time": "2023-07-17T12:13:53.439422",
   "environment_variables": {},
   "exception": null,
   "input_path": "__notebook__.ipynb",
   "output_path": "__notebook__.ipynb",
   "parameters": {},
   "start_time": "2023-07-17T12:13:39.862789",
   "version": "2.4.0"
  }
 },
 "nbformat": 4,
 "nbformat_minor": 5
}
